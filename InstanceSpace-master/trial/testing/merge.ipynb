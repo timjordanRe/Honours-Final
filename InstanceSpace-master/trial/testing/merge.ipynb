{
 "cells": [
  {
   "cell_type": "code",
   "execution_count": 5,
   "metadata": {},
   "outputs": [],
   "source": [
    "import pandas as pd"
   ]
  },
  {
   "cell_type": "code",
   "execution_count": 12,
   "metadata": {},
   "outputs": [],
   "source": [
    "aeq_bank = 'metadata_algo_RF_bank_aequitas.csv'\n",
    "kosei_bank = 'metadata_algo_RF_kosei.csv'\n",
    "expga_bank = 'metadata_expga_RF_bank.csv'"
   ]
  },
  {
   "cell_type": "code",
   "execution_count": 46,
   "metadata": {},
   "outputs": [],
   "source": [
    "aeq_df = pd.read_csv(aeq_bank)\n",
    "kosei_df = pd.read_csv(kosei_bank)\n",
    "expga_df = pd.read_csv(expga_bank)\n",
    "expga_df.drop_duplicates(inplace=True)\n",
    "aeq_df.rename(columns={'algo_RFC_bank': 'algo_aequitas'}, inplace=True)\n",
    "kosei_df.rename(columns={'algo_RF': 'algo_kosei'}, inplace=True)"
   ]
  },
  {
   "cell_type": "code",
   "execution_count": 47,
   "metadata": {},
   "outputs": [],
   "source": [
    "keys = ['Instances', 'feature_age', 'feature_job', 'feature_marital',\n",
    "       'feature_education', 'feature_default', 'feature_balance',\n",
    "       'feature_housing', 'feature_loan', 'feature_contact', 'feature_day',\n",
    "       'feature_month', 'feature_duration', 'feature_campaign',\n",
    "       'feature_pdays', 'feature_previous', 'feature_poutcome']"
   ]
  },
  {
   "cell_type": "code",
   "execution_count": 48,
   "metadata": {},
   "outputs": [],
   "source": [
    "merge_df = pd.merge(aeq_df, kosei_df, on=keys, how='inner')\n",
    "# merge_df = pd.merge(merge_df, expga_df, on=keys, how='inner')"
   ]
  },
  {
   "cell_type": "code",
   "execution_count": 53,
   "metadata": {},
   "outputs": [],
   "source": [
    "merge_df.to_csv('metadata_merge.csv', index=False)"
   ]
  },
  {
   "cell_type": "code",
   "execution_count": null,
   "metadata": {},
   "outputs": [],
   "source": []
  }
 ],
 "metadata": {
  "kernelspec": {
   "display_name": "base",
   "language": "python",
   "name": "python3"
  },
  "language_info": {
   "codemirror_mode": {
    "name": "ipython",
    "version": 3
   },
   "file_extension": ".py",
   "mimetype": "text/x-python",
   "name": "python",
   "nbconvert_exporter": "python",
   "pygments_lexer": "ipython3",
   "version": "3.8.8"
  }
 },
 "nbformat": 4,
 "nbformat_minor": 2
}
