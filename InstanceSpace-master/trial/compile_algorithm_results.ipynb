{
 "cells": [
  {
   "cell_type": "code",
   "execution_count": 45,
   "metadata": {},
   "outputs": [],
   "source": [
    "import pandas as pd"
   ]
  },
  {
   "cell_type": "code",
   "execution_count": 46,
   "metadata": {},
   "outputs": [],
   "source": [
    "census_rf_input = 'census_metadata_RF.csv'\n",
    "census_mlpc_input = 'census_metadata_MLPC.csv'\n",
    "census_dt_input = 'census_metadata_DT.csv'"
   ]
  },
  {
   "cell_type": "code",
   "execution_count": 47,
   "metadata": {},
   "outputs": [],
   "source": [
    "census_rf_df = pd.read_csv(census_rf_input)\n",
    "census_mlpc_df = pd.read_csv(census_mlpc_input)\n",
    "census_dt_df = pd.read_csv(census_dt_input)\n"
   ]
  },
  {
   "cell_type": "code",
   "execution_count": 48,
   "metadata": {},
   "outputs": [],
   "source": [
    "census_rf_df = census_rf_df.drop_duplicates()\n",
    "census_mlpc_df = census_mlpc_df.drop_duplicates()\n",
    "census_dt_df = census_dt_df.drop_duplicates()"
   ]
  },
  {
   "cell_type": "code",
   "execution_count": 49,
   "metadata": {},
   "outputs": [],
   "source": [
    "feature_labels = list(census_rf_df.columns)[:-1]"
   ]
  },
  {
   "cell_type": "code",
   "execution_count": 50,
   "metadata": {},
   "outputs": [],
   "source": [
    "def retrieve_rows(df, limit, label):\n",
    "    limit = int(limit/2)\n",
    "    df1 = df[df[label] == 1]\n",
    "    df2 = df[df[label] == 0]\n",
    "\n",
    "    res_df = pd.concat([df1.head(limit), df2.head(limit)]).reset_index(drop=True)\n",
    "    return res_df\n",
    "    "
   ]
  },
  {
   "cell_type": "code",
   "execution_count": 51,
   "metadata": {},
   "outputs": [],
   "source": [
    "balanced_census_rf_df = retrieve_rows(census_rf_df, 15000, 'algo_RF')\n",
    "balanced_census_mlpc_df = retrieve_rows(census_mlpc_df, 15000, 'algo_MLPC')\n",
    "balanced_census_dt_df = retrieve_rows(census_dt_df, 15000, 'algo_DT')"
   ]
  },
  {
   "cell_type": "code",
   "execution_count": 52,
   "metadata": {},
   "outputs": [],
   "source": [
    "# merged_df = pd.merge(balanced_census_rf_df, balanced_census_mlpc_df, on=feature_labels, how='inner')\n",
    "# merged_df = pd.merge(merged_df, balanced_census_dt_df, on=feature_labels, how='inner')"
   ]
  },
  {
   "cell_type": "code",
   "execution_count": 53,
   "metadata": {},
   "outputs": [],
   "source": [
    "merged_df = pd.merge(census_rf_df, census_mlpc_df, on=feature_labels, how='inner')\n",
    "# merged_df = pd.merge(merged_df, balanced_census_dt_df, on=feature_labels, how='inner')"
   ]
  },
  {
   "cell_type": "code",
   "execution_count": 56,
   "metadata": {},
   "outputs": [],
   "source": [
    "df_without_nan = merged_df.dropna(how='any')"
   ]
  },
  {
   "cell_type": "code",
   "execution_count": 57,
   "metadata": {},
   "outputs": [],
   "source": [
    "df_without_nan.to_csv('census_metadata_combined.csv', index=False)"
   ]
  },
  {
   "cell_type": "code",
   "execution_count": 60,
   "metadata": {},
   "outputs": [],
   "source": [
    "lst1 = [1,2,3,4]\n",
    "lst2 = [4,5,6,7]"
   ]
  },
  {
   "cell_type": "code",
   "execution_count": 61,
   "metadata": {},
   "outputs": [
    {
     "ename": "TypeError",
     "evalue": "unsupported operand type(s) for /: 'list' and 'list'",
     "output_type": "error",
     "traceback": [
      "\u001b[1;31m---------------------------------------------------------------------------\u001b[0m",
      "\u001b[1;31mTypeError\u001b[0m                                 Traceback (most recent call last)",
      "\u001b[1;32m<ipython-input-61-6aac84a2f410>\u001b[0m in \u001b[0;36m<module>\u001b[1;34m\u001b[0m\n\u001b[1;32m----> 1\u001b[1;33m \u001b[0mlst1\u001b[0m\u001b[1;33m/\u001b[0m\u001b[0mlst2\u001b[0m\u001b[1;33m\u001b[0m\u001b[1;33m\u001b[0m\u001b[0m\n\u001b[0m",
      "\u001b[1;31mTypeError\u001b[0m: unsupported operand type(s) for /: 'list' and 'list'"
     ]
    }
   ],
   "source": [
    "\n",
    "lst1/lst2"
   ]
  }
 ],
 "metadata": {
  "kernelspec": {
   "display_name": "base",
   "language": "python",
   "name": "python3"
  },
  "language_info": {
   "codemirror_mode": {
    "name": "ipython",
    "version": 3
   },
   "file_extension": ".py",
   "mimetype": "text/x-python",
   "name": "python",
   "nbconvert_exporter": "python",
   "pygments_lexer": "ipython3",
   "version": "3.8.8"
  }
 },
 "nbformat": 4,
 "nbformat_minor": 2
}
